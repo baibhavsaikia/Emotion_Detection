{
 "cells": [
  {
   "cell_type": "markdown",
   "id": "dadca876",
   "metadata": {},
   "source": [
    "# EMOTION DETECTION\n",
    "### Detects the facial expression of the user and displays it.\n",
    "Done by- Baibhav Saikia"
   ]
  },
  {
   "cell_type": "markdown",
   "id": "c14c4e6f",
   "metadata": {},
   "source": [
    "### Importing the Necessary Libraries"
   ]
  },
  {
   "cell_type": "code",
   "execution_count": 1,
   "id": "a7040bcf",
   "metadata": {},
   "outputs": [],
   "source": [
    "import os\n",
    "import cv2\n",
    "import numpy as np\n",
    "import pandas as pd \n",
    "import matplotlib.pyplot as plt\n",
    "from keras.preprocessing import image\n",
    "from keras.layers import Flatten, Dense\n",
    "from keras.models import Model\n",
    "from keras.models import load_model\n",
    "from keras.preprocessing.image import ImageDataGenerator , img_to_array, load_img\n",
    "from keras.applications.mobilenet import MobileNet, preprocess_input \n",
    "from keras.losses import categorical_crossentropy\n",
    "from keras.callbacks import ModelCheckpoint, EarlyStopping"
   ]
  },
  {
   "cell_type": "markdown",
   "id": "47692466",
   "metadata": {},
   "source": [
    "### Building the Model"
   ]
  },
  {
   "cell_type": "code",
   "execution_count": 2,
   "id": "492bed10",
   "metadata": {},
   "outputs": [],
   "source": [
    "base_model = MobileNet( input_shape=(224,224,3), include_top= False )\n",
    "for layer in base_model.layers:\n",
    "  layer.trainable = False\n",
    "\n",
    "x = Flatten()(base_model.output)\n",
    "x = Dense(units=7 , activation='softmax' )(x)\n",
    "model = Model(base_model.input, x)"
   ]
  },
  {
   "cell_type": "code",
   "execution_count": 3,
   "id": "c07abe15",
   "metadata": {},
   "outputs": [],
   "source": [
    "model.compile(optimizer='adam', loss= categorical_crossentropy , metrics=['accuracy']  )"
   ]
  },
  {
   "cell_type": "markdown",
   "id": "b95a3636",
   "metadata": {},
   "source": [
    "### Preparing the Data"
   ]
  },
  {
   "cell_type": "code",
   "execution_count": 4,
   "id": "816c6928",
   "metadata": {},
   "outputs": [
    {
     "name": "stdout",
     "output_type": "stream",
     "text": [
      "Found 350 images belonging to 7 classes.\n"
     ]
    },
    {
     "data": {
      "text/plain": [
       "{'Angry': 0,\n",
       " 'Disguist': 1,\n",
       " 'Fear': 2,\n",
       " 'Happy': 3,\n",
       " 'Neutral': 4,\n",
       " 'Sad': 5,\n",
       " 'Surprise': 6}"
      ]
     },
     "execution_count": 4,
     "metadata": {},
     "output_type": "execute_result"
    }
   ],
   "source": [
    "train_datagen = ImageDataGenerator(\n",
    "     zoom_range = 0.2, \n",
    "     shear_range = 0.2, \n",
    "     horizontal_flip=True, \n",
    "     rescale = 1./255\n",
    ")\n",
    "train_data = train_datagen.flow_from_directory(directory= \"dataset/train\", \n",
    "                                               target_size=(224,224), \n",
    "                                               batch_size=32,\n",
    "                                  )\n",
    "train_data.class_indices"
   ]
  },
  {
   "cell_type": "code",
   "execution_count": 5,
   "id": "98968fc4",
   "metadata": {},
   "outputs": [
    {
     "name": "stdout",
     "output_type": "stream",
     "text": [
      "Found 350 images belonging to 7 classes.\n"
     ]
    }
   ],
   "source": [
    "val_datagen = ImageDataGenerator(rescale = 1./255 )\n",
    "val_data = val_datagen.flow_from_directory(directory= \"dataset/train\", \n",
    "                                           target_size=(224,224), \n",
    "                                           batch_size=32,\n",
    "                                  )"
   ]
  },
  {
   "cell_type": "markdown",
   "id": "16f389e5",
   "metadata": {},
   "source": [
    "### Training and Testing"
   ]
  },
  {
   "cell_type": "code",
   "execution_count": 6,
   "id": "c123431a",
   "metadata": {},
   "outputs": [],
   "source": [
    "es = EarlyStopping(monitor='val_accuracy', min_delta= 0.01 , patience= 5, verbose= 1, mode='auto')\n",
    "mc = ModelCheckpoint(filepath=\"best_model.h5\", monitor= 'val_accuracy', verbose= 1, save_best_only= True, mode = 'auto')\n",
    "call_back = [es, mc]"
   ]
  },
  {
   "cell_type": "code",
   "execution_count": 7,
   "id": "f327c303",
   "metadata": {},
   "outputs": [
    {
     "name": "stderr",
     "output_type": "stream",
     "text": [
      "C:\\Users\\asus\\AppData\\Roaming\\Python\\Python38\\site-packages\\keras\\engine\\training.py:1915: UserWarning: `Model.fit_generator` is deprecated and will be removed in a future version. Please use `Model.fit`, which supports generators.\n",
      "  warnings.warn('`Model.fit_generator` is deprecated and '\n"
     ]
    },
    {
     "name": "stdout",
     "output_type": "stream",
     "text": [
      "Epoch 1/30\n",
      "10/10 [==============================] - 45s 2s/step - loss: 10.6333 - accuracy: 0.1700 - val_loss: 6.8897 - val_accuracy: 0.4531\n",
      "\n",
      "Epoch 00001: val_accuracy improved from -inf to 0.45312, saving model to best_model.h5\n",
      "Epoch 2/30\n",
      "10/10 [==============================] - 18s 2s/step - loss: 5.7629 - accuracy: 0.4600 - val_loss: 3.4237 - val_accuracy: 0.6406\n",
      "\n",
      "Epoch 00002: val_accuracy improved from 0.45312 to 0.64062, saving model to best_model.h5\n",
      "Epoch 3/30\n",
      "10/10 [==============================] - 18s 2s/step - loss: 2.7854 - accuracy: 0.6814 - val_loss: 1.2641 - val_accuracy: 0.8008\n",
      "\n",
      "Epoch 00003: val_accuracy improved from 0.64062 to 0.80078, saving model to best_model.h5\n",
      "Epoch 4/30\n",
      "10/10 [==============================] - 18s 2s/step - loss: 1.1424 - accuracy: 0.8175 - val_loss: 0.5585 - val_accuracy: 0.8867\n",
      "\n",
      "Epoch 00004: val_accuracy improved from 0.80078 to 0.88672, saving model to best_model.h5\n",
      "Epoch 5/30\n",
      "10/10 [==============================] - 19s 2s/step - loss: 0.6863 - accuracy: 0.8902 - val_loss: 0.3746 - val_accuracy: 0.9062\n",
      "\n",
      "Epoch 00005: val_accuracy improved from 0.88672 to 0.90625, saving model to best_model.h5\n",
      "Epoch 6/30\n",
      "10/10 [==============================] - 19s 2s/step - loss: 0.4041 - accuracy: 0.8985 - val_loss: 0.2025 - val_accuracy: 0.9609\n",
      "\n",
      "Epoch 00006: val_accuracy improved from 0.90625 to 0.96094, saving model to best_model.h5\n",
      "Epoch 7/30\n",
      "10/10 [==============================] - 20s 2s/step - loss: 0.1405 - accuracy: 0.9506 - val_loss: 0.0588 - val_accuracy: 0.9766\n",
      "\n",
      "Epoch 00007: val_accuracy improved from 0.96094 to 0.97656, saving model to best_model.h5\n",
      "Epoch 8/30\n",
      "10/10 [==============================] - 19s 2s/step - loss: 0.1575 - accuracy: 0.9583 - val_loss: 0.0430 - val_accuracy: 0.9844\n",
      "\n",
      "Epoch 00008: val_accuracy improved from 0.97656 to 0.98438, saving model to best_model.h5\n",
      "Epoch 9/30\n",
      "10/10 [==============================] - 20s 2s/step - loss: 0.0687 - accuracy: 0.9846 - val_loss: 0.0343 - val_accuracy: 0.9805\n",
      "\n",
      "Epoch 00009: val_accuracy did not improve from 0.98438\n",
      "Epoch 10/30\n",
      "10/10 [==============================] - 19s 2s/step - loss: 0.0558 - accuracy: 0.9841 - val_loss: 0.0623 - val_accuracy: 0.9922\n",
      "\n",
      "Epoch 00010: val_accuracy improved from 0.98438 to 0.99219, saving model to best_model.h5\n",
      "Epoch 11/30\n",
      "10/10 [==============================] - 19s 2s/step - loss: 0.0258 - accuracy: 0.9966 - val_loss: 0.0058 - val_accuracy: 0.9961\n",
      "\n",
      "Epoch 00011: val_accuracy improved from 0.99219 to 0.99609, saving model to best_model.h5\n",
      "Epoch 12/30\n",
      "10/10 [==============================] - 19s 2s/step - loss: 0.0473 - accuracy: 0.9792 - val_loss: 0.0035 - val_accuracy: 1.0000\n",
      "\n",
      "Epoch 00012: val_accuracy improved from 0.99609 to 1.00000, saving model to best_model.h5\n",
      "Epoch 13/30\n",
      "10/10 [==============================] - 19s 2s/step - loss: 0.0997 - accuracy: 0.9855 - val_loss: 0.0045 - val_accuracy: 0.9961\n",
      "\n",
      "Epoch 00013: val_accuracy did not improve from 1.00000\n",
      "Epoch 14/30\n",
      "10/10 [==============================] - 19s 2s/step - loss: 0.0137 - accuracy: 0.9929 - val_loss: 0.0032 - val_accuracy: 1.0000\n",
      "\n",
      "Epoch 00014: val_accuracy did not improve from 1.00000\n",
      "Epoch 15/30\n",
      "10/10 [==============================] - 20s 2s/step - loss: 0.0170 - accuracy: 0.9982 - val_loss: 0.0041 - val_accuracy: 0.9961\n",
      "\n",
      "Epoch 00015: val_accuracy did not improve from 1.00000\n",
      "Epoch 00015: early stopping\n"
     ]
    }
   ],
   "source": [
    "hist = model.fit_generator(train_data, \n",
    "                           steps_per_epoch= 10, \n",
    "                           epochs= 30, \n",
    "                           validation_data= val_data, \n",
    "                           validation_steps= 8, \n",
    "                           callbacks=[es,mc])"
   ]
  },
  {
   "cell_type": "markdown",
   "id": "3a9331d5",
   "metadata": {},
   "source": [
    "### Loading the Best-Fit Model"
   ]
  },
  {
   "cell_type": "code",
   "execution_count": 8,
   "id": "32d43daa",
   "metadata": {},
   "outputs": [],
   "source": [
    "model = load_model(\"best_model.h5\")"
   ]
  },
  {
   "cell_type": "code",
   "execution_count": 9,
   "id": "db90313b",
   "metadata": {},
   "outputs": [
    {
     "data": {
      "text/plain": [
       "dict_keys(['loss', 'accuracy', 'val_loss', 'val_accuracy'])"
      ]
     },
     "execution_count": 9,
     "metadata": {},
     "output_type": "execute_result"
    }
   ],
   "source": [
    "h =  hist.history\n",
    "h.keys()"
   ]
  },
  {
   "cell_type": "markdown",
   "id": "9fc700e2",
   "metadata": {},
   "source": [
    "### Plots"
   ]
  },
  {
   "cell_type": "code",
   "execution_count": 10,
   "id": "fbecb572",
   "metadata": {},
   "outputs": [
    {
     "data": {
      "image/png": "[encoded data removed]",
      "text/plain": [
       "<Figure size 432x288 with 1 Axes>"
      ]
     },
     "metadata": {
      "needs_background": "light"
     },
     "output_type": "display_data"
    }
   ],
   "source": [
    "plt.plot(h['accuracy'])\n",
    "plt.plot(h['val_accuracy'] , c = \"red\")\n",
    "plt.title(\"acc vs v-acc\")\n",
    "plt.show()"
   ]
  },
  {
   "cell_type": "code",
   "execution_count": 11,
   "id": "9ff46904",
   "metadata": {},
   "outputs": [
    {
     "data": {
      "image/png": "[encoded data removed]",
      "text/plain": [
       "<Figure size 432x288 with 1 Axes>"
      ]
     },
     "metadata": {
      "needs_background": "light"
     },
     "output_type": "display_data"
    }
   ],
   "source": [
    "plt.plot(h['loss'])\n",
    "plt.plot(h['val_loss'] , c = \"red\")\n",
    "plt.title(\"loss vs v-loss\")\n",
    "plt.show()"
   ]
  },
  {
   "cell_type": "code",
   "execution_count": 12,
   "id": "543a6a5e",
   "metadata": {},
   "outputs": [],
   "source": [
    "op = dict(zip( train_data.class_indices.values(), train_data.class_indices.keys()))"
   ]
  },
  {
   "cell_type": "markdown",
   "id": "868f9cab",
   "metadata": {},
   "source": [
    "### Reading from the Input Source"
   ]
  },
  {
   "cell_type": "code",
   "execution_count": null,
   "id": "b94e7788",
   "metadata": {},
   "outputs": [],
   "source": [
    "face_haar_cascade = cv2.CascadeClassifier(cv2.data.haarcascades + 'haarcascade_frontalface_default.xml')\n",
    "cap = cv2.VideoCapture(0)\n",
    "\n",
    "while True:\n",
    "    ret, test_img = cap.read() \n",
    "    if not ret:\n",
    "        continue\n",
    "    gray_img = cv2.cvtColor(test_img, cv2.COLOR_BGR2RGB)\n",
    "    faces_detected = face_haar_cascade.detectMultiScale(gray_img, 1.32, 5)\n",
    "\n",
    "    for (x, y, w, h) in faces_detected:\n",
    "        cv2.rectangle(test_img, (x, y), (x + w, y + h), (255, 0, 0), thickness=7)\n",
    "        roi_gray = gray_img[y:y + w, x:x + h] \n",
    "        roi_gray = cv2.resize(roi_gray, (224, 224))\n",
    "        img_pixels = image.img_to_array(roi_gray)\n",
    "        img_pixels = np.expand_dims(img_pixels, axis=0)\n",
    "        img_pixels /= 255\n",
    "        predictions = model.predict(img_pixels)\n",
    "        max_index = np.argmax(predictions[0])\n",
    "        emotions = ('angry', 'disgust', 'fear', 'happy', 'sad', 'surprise', 'neutral')\n",
    "        predicted_emotion = emotions[max_index]\n",
    "        cv2.putText(test_img, predicted_emotion, (int(x), int(y)), cv2.FONT_HERSHEY_SIMPLEX, 1, (0, 0, 255), 2)\n",
    "\n",
    "    resized_img = cv2.resize(test_img, (1000, 700))\n",
    "    cv2.imshow('Facial emotion analysis ', resized_img)\n",
    "\n",
    "    if cv2.waitKey(10) == ord('q'):  \n",
    "        break\n",
    "\n",
    "cap.release()\n",
    "cv2.destroyAllWindows"
   ]
  },
  {
   "cell_type": "markdown",
   "id": "7d82cebe",
   "metadata": {},
   "source": [
    "### Thank You"
   ]
  }
 ],
 "metadata": {
  "kernelspec": {
   "display_name": "Python 3 (ipykernel)",
   "language": "python",
   "name": "python3"
  },
  "language_info": {
   "codemirror_mode": {
    "name": "ipython",
    "version": 3
   },
   "file_extension": ".py",
   "mimetype": "text/x-python",
   "name": "python",
   "nbconvert_exporter": "python",
   "pygments_lexer": "ipython3",
   "version": "3.8.10"
  }
 },
 "nbformat": 4,
 "nbformat_minor": 5
}
